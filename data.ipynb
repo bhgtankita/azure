{
  "cells": [
    {
      "cell_type": "code",
      "source": [
        "from azure.ai.ml import MLClient\n",
        "from azure.identity import DefaultAzureCredential\n",
        "from azure.ai.ml.entities import Data\n",
        "from azure.ai.ml.constants import AssetTypes\n",
        "\n",
        "credentials = DefaultAzureCredential()\n",
        "\n",
        "ml_client = MLClient(\n",
        "    credential=credentials,\n",
        "    subscription_id=\"a9ea30e6-5728-4375-ac04-cbe4918c3def\",\n",
        "    resource_group_name=\"rg-training\",\n",
        "    workspace_name=\"ws-training\"\n",
        ")"
      ],
      "outputs": [],
      "execution_count": 13,
      "metadata": {
        "gather": {
          "logged": 1720138565297
        }
      }
    },
    {
      "cell_type": "code",
      "source": [
        "my_path = \".data/default_of_credit_card_clients.csv\"\n",
        "\n",
        "v1 = \"initial\"\n",
        "\n",
        "my_data = Data(\n",
        "    name=\"credit-card\",\n",
        "    version=v1,\n",
        "    path=my_path,\n",
        "    description=\"credit card data\",\n",
        "    type=AssetTypes.URI_FILE\n",
        ")\n",
        "\n",
        "try:\n",
        "    data_asset = ml_client.data.get(name=\"credit-card\", version=v1)\n",
        "    print(f\"Data asset already exists. Name: {my_data.name}, version: {my_data.version}\")\n",
        "except:\n",
        "    ml_client.data.create_or_update(my_data)\n",
        "    print(f\"Data asset created. Name: {my_data.name}, version: {my_data.version}\")"
      ],
      "outputs": [
        {
          "output_type": "stream",
          "name": "stdout",
          "text": "Data asset already exists. Name: credit-card, version: initial\n"
        }
      ],
      "execution_count": 14,
      "metadata": {
        "jupyter": {
          "source_hidden": false,
          "outputs_hidden": false
        },
        "nteract": {
          "transient": {
            "deleting": false
          }
        },
        "gather": {
          "logged": 1720138565771
        }
      }
    },
    {
      "cell_type": "code",
      "source": [
        "import pandas as pd\n",
        "\n",
        "data_asset = ml_client.data.get(name=\"credit-card\", version=v1)\n",
        "print(f\"Data asset URI: {data_asset.path}\")\n",
        "df = pd.read_csv(data_asset.path)\n",
        "df.head()"
      ],
      "outputs": [
        {
          "output_type": "stream",
          "name": "stdout",
          "text": "Data asset URI: azureml://subscriptions/a9ea30e6-5728-4375-ac04-cbe4918c3def/resourcegroups/rg-training/workspaces/ws-training/datastores/workspaceblobstore/paths/LocalUpload/f4315d633696cbc4576bf53f59a90e8f/default_of_credit_card_clients.csv\n"
        },
        {
          "output_type": "execute_result",
          "execution_count": 15,
          "data": {
            "text/plain": "  Unnamed: 0         X1   X2         X3        X4   X5     X6     X7     X8  \\\n0         ID  LIMIT_BAL  SEX  EDUCATION  MARRIAGE  AGE  PAY_0  PAY_2  PAY_3   \n1          1      20000    2          2         1   24      2      2     -1   \n2          2     120000    2          2         2   26     -1      2      0   \n3          3      90000    2          2         2   34      0      0      0   \n4          4      50000    2          2         1   37      0      0      0   \n\n      X9  ...        X15        X16        X17       X18       X19       X20  \\\n0  PAY_4  ...  BILL_AMT4  BILL_AMT5  BILL_AMT6  PAY_AMT1  PAY_AMT2  PAY_AMT3   \n1     -1  ...          0          0          0         0       689         0   \n2      0  ...       3272       3455       3261         0      1000      1000   \n3      0  ...      14331      14948      15549      1518      1500      1000   \n4      0  ...      28314      28959      29547      2000      2019      1200   \n\n        X21       X22       X23                           Y  \n0  PAY_AMT4  PAY_AMT5  PAY_AMT6  default payment next month  \n1         0         0         0                           1  \n2      1000         0      2000                           1  \n3      1000      1000      5000                           0  \n4      1100      1069      1000                           0  \n\n[5 rows x 25 columns]",
            "text/html": "<div>\n<style scoped>\n    .dataframe tbody tr th:only-of-type {\n        vertical-align: middle;\n    }\n\n    .dataframe tbody tr th {\n        vertical-align: top;\n    }\n\n    .dataframe thead th {\n        text-align: right;\n    }\n</style>\n<table border=\"1\" class=\"dataframe\">\n  <thead>\n    <tr style=\"text-align: right;\">\n      <th></th>\n      <th>Unnamed: 0</th>\n      <th>X1</th>\n      <th>X2</th>\n      <th>X3</th>\n      <th>X4</th>\n      <th>X5</th>\n      <th>X6</th>\n      <th>X7</th>\n      <th>X8</th>\n      <th>X9</th>\n      <th>...</th>\n      <th>X15</th>\n      <th>X16</th>\n      <th>X17</th>\n      <th>X18</th>\n      <th>X19</th>\n      <th>X20</th>\n      <th>X21</th>\n      <th>X22</th>\n      <th>X23</th>\n      <th>Y</th>\n    </tr>\n  </thead>\n  <tbody>\n    <tr>\n      <th>0</th>\n      <td>ID</td>\n      <td>LIMIT_BAL</td>\n      <td>SEX</td>\n      <td>EDUCATION</td>\n      <td>MARRIAGE</td>\n      <td>AGE</td>\n      <td>PAY_0</td>\n      <td>PAY_2</td>\n      <td>PAY_3</td>\n      <td>PAY_4</td>\n      <td>...</td>\n      <td>BILL_AMT4</td>\n      <td>BILL_AMT5</td>\n      <td>BILL_AMT6</td>\n      <td>PAY_AMT1</td>\n      <td>PAY_AMT2</td>\n      <td>PAY_AMT3</td>\n      <td>PAY_AMT4</td>\n      <td>PAY_AMT5</td>\n      <td>PAY_AMT6</td>\n      <td>default payment next month</td>\n    </tr>\n    <tr>\n      <th>1</th>\n      <td>1</td>\n      <td>20000</td>\n      <td>2</td>\n      <td>2</td>\n      <td>1</td>\n      <td>24</td>\n      <td>2</td>\n      <td>2</td>\n      <td>-1</td>\n      <td>-1</td>\n      <td>...</td>\n      <td>0</td>\n      <td>0</td>\n      <td>0</td>\n      <td>0</td>\n      <td>689</td>\n      <td>0</td>\n      <td>0</td>\n      <td>0</td>\n      <td>0</td>\n      <td>1</td>\n    </tr>\n    <tr>\n      <th>2</th>\n      <td>2</td>\n      <td>120000</td>\n      <td>2</td>\n      <td>2</td>\n      <td>2</td>\n      <td>26</td>\n      <td>-1</td>\n      <td>2</td>\n      <td>0</td>\n      <td>0</td>\n      <td>...</td>\n      <td>3272</td>\n      <td>3455</td>\n      <td>3261</td>\n      <td>0</td>\n      <td>1000</td>\n      <td>1000</td>\n      <td>1000</td>\n      <td>0</td>\n      <td>2000</td>\n      <td>1</td>\n    </tr>\n    <tr>\n      <th>3</th>\n      <td>3</td>\n      <td>90000</td>\n      <td>2</td>\n      <td>2</td>\n      <td>2</td>\n      <td>34</td>\n      <td>0</td>\n      <td>0</td>\n      <td>0</td>\n      <td>0</td>\n      <td>...</td>\n      <td>14331</td>\n      <td>14948</td>\n      <td>15549</td>\n      <td>1518</td>\n      <td>1500</td>\n      <td>1000</td>\n      <td>1000</td>\n      <td>1000</td>\n      <td>5000</td>\n      <td>0</td>\n    </tr>\n    <tr>\n      <th>4</th>\n      <td>4</td>\n      <td>50000</td>\n      <td>2</td>\n      <td>2</td>\n      <td>1</td>\n      <td>37</td>\n      <td>0</td>\n      <td>0</td>\n      <td>0</td>\n      <td>0</td>\n      <td>...</td>\n      <td>28314</td>\n      <td>28959</td>\n      <td>29547</td>\n      <td>2000</td>\n      <td>2019</td>\n      <td>1200</td>\n      <td>1100</td>\n      <td>1069</td>\n      <td>1000</td>\n      <td>0</td>\n    </tr>\n  </tbody>\n</table>\n<p>5 rows × 25 columns</p>\n</div>"
          },
          "metadata": {}
        }
      ],
      "execution_count": 15,
      "metadata": {
        "jupyter": {
          "source_hidden": false,
          "outputs_hidden": false
        },
        "nteract": {
          "transient": {
            "deleting": false
          }
        },
        "gather": {
          "logged": 1720138566165
        }
      }
    },
    {
      "cell_type": "code",
      "source": [
        "df = pd.read_csv(data_asset.path, header=1)\n",
        "df.rename(columns={\"default payment next month\": \"default\"}, inplace=True)\n",
        "df.drop(\"ID\", axis=1, inplace=True)\n",
        "df.to_parquet(\"./data/cleaned-credit-card.parquet\")"
      ],
      "outputs": [],
      "execution_count": 16,
      "metadata": {
        "jupyter": {
          "source_hidden": false,
          "outputs_hidden": false
        },
        "nteract": {
          "transient": {
            "deleting": false
          }
        },
        "gather": {
          "logged": 1720138566421
        }
      }
    },
    {
      "cell_type": "code",
      "source": [
        "import time\n",
        "v2 = \"cleaned\" + time.strftime(\"%Y.%m.%d.%H%M%S\", time.gmtime())\n",
        "my_path = \"../get-started-notebooks/data/cleaned-credit-card.parquet\"\n",
        "\n",
        "my_data = Data(\n",
        "    name=\"credit-card\",\n",
        "    version=v2,\n",
        "    path=my_path,\n",
        "    description=\"credit card data\",\n",
        "    tags={\"training_data\": \"true\", \"format\": \"parquet\"},\n",
        "    type=AssetTypes.URI_FILE\n",
        ") \n",
        "\n",
        "my_data = ml_client.data.create_or_update(my_data)\n",
        "print(f\"Data asset created. Name: {my_data.name}, version: {my_data.version}\")"
      ],
      "outputs": [
        {
          "output_type": "stream",
          "name": "stdout",
          "text": "Data asset created. Name: credit-card, version: cleaned2024.07.05.001607\n"
        }
      ],
      "execution_count": 17,
      "metadata": {
        "jupyter": {
          "source_hidden": false,
          "outputs_hidden": false
        },
        "nteract": {
          "transient": {
            "deleting": false
          }
        },
        "gather": {
          "logged": 1720138567776
        }
      }
    },
    {
      "cell_type": "code",
      "source": [
        "import pandas as pd\n",
        "\n",
        "# get a handle of the data asset and print the URI\n",
        "data_asset_v1 = ml_client.data.get(name=\"credit-card\", version=v1)\n",
        "data_asset_v2 = ml_client.data.get(name=\"credit-card\", version=v2)\n",
        "\n",
        "# print the v1 data\n",
        "print(f\"V1 Data asset URI: {data_asset_v1.path}\")\n",
        "v1df = pd.read_csv(data_asset_v1.path)\n",
        "print(v1df.head(5))\n",
        "\n",
        "# print the v2 data\n",
        "print(\n",
        "    \"_____________________________________________________________________________________________________________\\n\"\n",
        ")\n",
        "print(f\"V2 Data asset URI: {data_asset_v2.path}\")\n",
        "v2df = pd.read_parquet(data_asset_v2.path)\n",
        "print(v2df.head(5))"
      ],
      "outputs": [
        {
          "output_type": "stream",
          "name": "stdout",
          "text": "V1 Data asset URI: azureml://subscriptions/a9ea30e6-5728-4375-ac04-cbe4918c3def/resourcegroups/rg-training/workspaces/ws-training/datastores/workspaceblobstore/paths/LocalUpload/f4315d633696cbc4576bf53f59a90e8f/default_of_credit_card_clients.csv\n  Unnamed: 0         X1   X2         X3        X4   X5     X6     X7     X8  \\\n0         ID  LIMIT_BAL  SEX  EDUCATION  MARRIAGE  AGE  PAY_0  PAY_2  PAY_3   \n1          1      20000    2          2         1   24      2      2     -1   \n2          2     120000    2          2         2   26     -1      2      0   \n3          3      90000    2          2         2   34      0      0      0   \n4          4      50000    2          2         1   37      0      0      0   \n\n      X9  ...        X15        X16        X17       X18       X19       X20  \\\n0  PAY_4  ...  BILL_AMT4  BILL_AMT5  BILL_AMT6  PAY_AMT1  PAY_AMT2  PAY_AMT3   \n1     -1  ...          0          0          0         0       689         0   \n2      0  ...       3272       3455       3261         0      1000      1000   \n3      0  ...      14331      14948      15549      1518      1500      1000   \n4      0  ...      28314      28959      29547      2000      2019      1200   \n\n        X21       X22       X23                           Y  \n0  PAY_AMT4  PAY_AMT5  PAY_AMT6  default payment next month  \n1         0         0         0                           1  \n2      1000         0      2000                           1  \n3      1000      1000      5000                           0  \n4      1100      1069      1000                           0  \n\n[5 rows x 25 columns]\n_____________________________________________________________________________________________________________\n\nV2 Data asset URI: azureml://subscriptions/a9ea30e6-5728-4375-ac04-cbe4918c3def/resourcegroups/rg-training/workspaces/ws-training/datastores/workspaceblobstore/paths/LocalUpload/6562c2dc8c57dcab0fed5827d946fd1d/cleaned-credit-card.parquet\n   LIMIT_BAL  SEX  EDUCATION  MARRIAGE  AGE  PAY_0  PAY_2  PAY_3  PAY_4  \\\n0      20000    2          2         1   24      2      2     -1     -1   \n1     120000    2          2         2   26     -1      2      0      0   \n2      90000    2          2         2   34      0      0      0      0   \n3      50000    2          2         1   37      0      0      0      0   \n4      50000    1          2         1   57     -1      0     -1      0   \n\n   PAY_5  ...  BILL_AMT4  BILL_AMT5  BILL_AMT6  PAY_AMT1  PAY_AMT2  PAY_AMT3  \\\n0     -2  ...          0          0          0         0       689         0   \n1      0  ...       3272       3455       3261         0      1000      1000   \n2      0  ...      14331      14948      15549      1518      1500      1000   \n3      0  ...      28314      28959      29547      2000      2019      1200   \n4      0  ...      20940      19146      19131      2000     36681     10000   \n\n   PAY_AMT4  PAY_AMT5  PAY_AMT6  default  \n0         0         0         0        1  \n1      1000         0      2000        1  \n2      1000      1000      5000        0  \n3      1100      1069      1000        0  \n4      9000       689       679        0  \n\n[5 rows x 24 columns]\n"
        }
      ],
      "execution_count": 18,
      "metadata": {
        "jupyter": {
          "source_hidden": false,
          "outputs_hidden": false
        },
        "nteract": {
          "transient": {
            "deleting": false
          }
        },
        "gather": {
          "logged": 1720138568395
        }
      }
    }
  ],
  "metadata": {
    "kernelspec": {
      "name": "python310-sdkv2",
      "language": "python",
      "display_name": "Python 3.10 - SDK v2"
    },
    "language_info": {
      "name": "python",
      "version": "3.10.14",
      "mimetype": "text/x-python",
      "codemirror_mode": {
        "name": "ipython",
        "version": 3
      },
      "pygments_lexer": "ipython3",
      "nbconvert_exporter": "python",
      "file_extension": ".py"
    },
    "microsoft": {
      "ms_spell_check": {
        "ms_spell_check_language": "en"
      },
      "host": {
        "AzureML": {
          "notebookHasBeenCompleted": true
        }
      }
    },
    "kernel_info": {
      "name": "python310-sdkv2"
    },
    "nteract": {
      "version": "nteract-front-end@1.0.0"
    }
  },
  "nbformat": 4,
  "nbformat_minor": 2
}