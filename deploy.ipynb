{
  "cells": [
    {
      "cell_type": "markdown",
      "source": [
        "- Register your model\n",
        "- Create an endpoint and a first deployment\n",
        "- Deploy a trial run\n",
        "- Manually send test data to the deployment\n",
        "- Get details of the deployment\n",
        "- Create a second deployment\n",
        "- Manually scale the second deployment\n",
        "- Update allocation of production traffic between both deployments\n",
        "- Get details of the second deployment\n",
        "- Roll out the new deployment and delete the first one"
      ],
      "metadata": {
        "nteract": {
          "transient": {
            "deleting": false
          }
        }
      }
    },
    {
      "cell_type": "code",
      "source": [
        "from azure.ai.ml import MLClient\n",
        "from azure.identity import DefaultAzureCredential\n",
        "\n",
        "credentials = DefaultAzureCredential()\n",
        "\n",
        "# handle to the workspace\n",
        "ml_client = MLClient(\n",
        "    credential=credentials,\n",
        "    subscription_id=\"a9ea30e6-5728-4375-ac04-cbe4918c3def\",\n",
        "    resource_group_name=\"rg-training\",\n",
        "    workspace_name=\"ws-training\"\n",
        ")"
      ],
      "outputs": [],
      "execution_count": 3,
      "metadata": {
        "gather": {
          "logged": 1720327389605
        }
      }
    },
    {
      "cell_type": "code",
      "source": [
        "# from azure.ai.ml.entities import Model\n",
        "# from azure.ai.ml.constants import AssetTypes\n",
        "\n",
        "# mlflow_model = Model(\n",
        "#     path=\"./deploy/credit_defaults_model/\",\n",
        "#     type=AssetTypes.MLFLOW_MODEL,\n",
        "#     name=\"credit_defaults_model\",\n",
        "#     description=\"MLflow Model created from local files.\",\n",
        "# )\n",
        "# ml_client.models.create_or_update(mlflow_model)"
      ],
      "outputs": [],
      "execution_count": 4,
      "metadata": {
        "jupyter": {
          "source_hidden": false,
          "outputs_hidden": false
        },
        "nteract": {
          "transient": {
            "deleting": false
          }
        },
        "gather": {
          "logged": 1720327389726
        }
      }
    },
    {
      "cell_type": "code",
      "source": [
        "registered_model_name = \"credit_defaults_model\"\n",
        "latest_model_version = max(\n",
        "    [int(m.version) for m in ml_client.models.list(name=registered_model_name)]\n",
        ")\n",
        "print(latest_model_version)"
      ],
      "outputs": [
        {
          "output_type": "stream",
          "name": "stdout",
          "text": "1\n"
        }
      ],
      "execution_count": 5,
      "metadata": {
        "jupyter": {
          "source_hidden": false,
          "outputs_hidden": false
        },
        "nteract": {
          "transient": {
            "deleting": false
          }
        },
        "gather": {
          "logged": 1720327389984
        }
      }
    },
    {
      "cell_type": "markdown",
      "source": [
        "# Create an online endpoint"
      ],
      "metadata": {
        "nteract": {
          "transient": {
            "deleting": false
          }
        }
      }
    },
    {
      "cell_type": "code",
      "source": [
        "import uuid\n",
        "online_endpoint_name = \"credit-endpoint-\" + str(uuid.uuid4())[:8]"
      ],
      "outputs": [],
      "execution_count": 6,
      "metadata": {
        "jupyter": {
          "source_hidden": false,
          "outputs_hidden": false
        },
        "nteract": {
          "transient": {
            "deleting": false
          }
        },
        "gather": {
          "logged": 1720327390190
        }
      }
    },
    {
      "cell_type": "code",
      "source": [
        "from azure.ai.ml.entities import ManagedOnlineEndpoint\n",
        "\n",
        "endpoint = ManagedOnlineEndpoint(\n",
        "    name=online_endpoint_name,\n",
        "    description=\"online endpoint for credit defaults\",\n",
        "    auth_mode=\"key\", #auth_mode : Use key for key-based authentication. Use aml_token for Azure Machine Learning token-based authentication. A key doesn't expire, but aml_token does expire. \n",
        "    tags={\n",
        "        \"training-dataset\": \"credit_defaults\"\n",
        "    }\n",
        ")\n",
        "\n",
        "endpoint = ml_client.online_endpoints.begin_create_or_update(endpoint).result()"
      ],
      "outputs": [],
      "execution_count": 7,
      "metadata": {
        "jupyter": {
          "source_hidden": false,
          "outputs_hidden": false
        },
        "nteract": {
          "transient": {
            "deleting": false
          }
        },
        "gather": {
          "logged": 1720327482811
        }
      }
    },
    {
      "cell_type": "code",
      "source": [
        "endpoint = ml_client.online_endpoints.get(name=online_endpoint_name)\n",
        "\n",
        "print(\n",
        "    f\"Endpoint {endpoint.name} with provisioning state {endpoint.provisioning_state} is retrieved\"\n",
        ")"
      ],
      "outputs": [
        {
          "output_type": "stream",
          "name": "stdout",
          "text": "Endpoint credit-endpoint-c53983ae with provisioning state Succeeded is retrieved\n"
        }
      ],
      "execution_count": 8,
      "metadata": {
        "jupyter": {
          "source_hidden": false,
          "outputs_hidden": false
        },
        "nteract": {
          "transient": {
            "deleting": false
          }
        },
        "gather": {
          "logged": 1720327485435
        }
      }
    },
    {
      "cell_type": "markdown",
      "source": [
        "# Deploy the model to the endpoint"
      ],
      "metadata": {
        "nteract": {
          "transient": {
            "deleting": false
          }
        }
      }
    },
    {
      "cell_type": "code",
      "source": [
        "from azure.ai.ml.entities import ManagedOnlineDeployment\n",
        "\n",
        "model = ml_client.models.get(name=registered_model_name, version=latest_model_version)\n",
        "\n",
        "blue_deployment = ManagedOnlineDeployment(\n",
        "    name=\"blue\",\n",
        "    endpoint_name=online_endpoint_name,\n",
        "    model=model,\n",
        "    instance_type=\"Standard_DS3_v2\",\n",
        "    instance_count=1\n",
        ")"
      ],
      "outputs": [],
      "execution_count": 9,
      "metadata": {
        "jupyter": {
          "source_hidden": false,
          "outputs_hidden": false
        },
        "nteract": {
          "transient": {
            "deleting": false
          }
        },
        "gather": {
          "logged": 1720327485639
        }
      }
    },
    {
      "cell_type": "code",
      "source": [
        "blue_deployment = ml_client.online_deployments.begin_create_or_update(\n",
        "    blue_deployment\n",
        ").result()\n",
        "\n",
        "endpoint.traffic = {\"blue\": 100}\n",
        "ml_client.online_endpoints.begin_create_or_update(endpoint).result()"
      ],
      "outputs": [
        {
          "output_type": "stream",
          "name": "stderr",
          "text": "Check: endpoint credit-endpoint-c53983ae exists\nReadonly attribute principal_id will be ignored in class <class 'azure.ai.ml._restclient.v2022_05_01.models._models_py3.ManagedServiceIdentity'>\nReadonly attribute tenant_id will be ignored in class <class 'azure.ai.ml._restclient.v2022_05_01.models._models_py3.ManagedServiceIdentity'>\n"
        },
        {
          "output_type": "stream",
          "name": "stdout",
          "text": "................................................................................................................."
        },
        {
          "output_type": "execute_result",
          "execution_count": 10,
          "data": {
            "text/plain": "ManagedOnlineEndpoint({'public_network_access': 'Enabled', 'provisioning_state': 'Succeeded', 'scoring_uri': 'https://credit-endpoint-c53983ae.eastus.inference.ml.azure.com/score', 'openapi_uri': 'https://credit-endpoint-c53983ae.eastus.inference.ml.azure.com/swagger.json', 'name': 'credit-endpoint-c53983ae', 'description': 'online endpoint for credit defaults', 'tags': {'training-dataset': 'credit_defaults'}, 'properties': {'createdBy': 'Ankita Himanshubhai Bhagat (Quadrant Resource LLC)', 'createdAt': '2024-07-07T04:43:12.679704+0000', 'lastModifiedAt': '2024-07-07T04:43:12.679704+0000', 'azureml.onlineendpointid': '/subscriptions/a9ea30e6-5728-4375-ac04-cbe4918c3def/resourcegroups/rg-training/providers/microsoft.machinelearningservices/workspaces/ws-training/onlineendpoints/credit-endpoint-c53983ae', 'AzureAsyncOperationUri': 'https://management.azure.com/subscriptions/a9ea30e6-5728-4375-ac04-cbe4918c3def/providers/Microsoft.MachineLearningServices/locations/eastus/mfeOperationsStatus/oeidp:77c52ac9-a5e2-47ea-a0dc-d01bacc875f6:4e78de46-08da-4b89-be50-cb9f3d04b6c8?api-version=2022-02-01-preview'}, 'print_as_yaml': False, 'id': '/subscriptions/a9ea30e6-5728-4375-ac04-cbe4918c3def/resourceGroups/rg-training/providers/Microsoft.MachineLearningServices/workspaces/ws-training/onlineEndpoints/credit-endpoint-c53983ae', 'Resource__source_path': '', 'base_path': '/mnt/batch/tasks/shared/LS_root/mounts/clusters/v-ankbhagat2/code/Users/v-ankbhagat/credit-defaults-model', 'creation_context': None, 'serialize': <msrest.serialization.Serializer object at 0x7fceb0e381f0>, 'auth_mode': 'key', 'location': 'eastus', 'identity': <azure.ai.ml.entities._credentials.IdentityConfiguration object at 0x7fceb0e4b310>, 'traffic': {'blue': 100}, 'mirror_traffic': {}, 'kind': 'Managed'})"
          },
          "metadata": {}
        }
      ],
      "execution_count": 10,
      "metadata": {
        "jupyter": {
          "source_hidden": false,
          "outputs_hidden": false
        },
        "nteract": {
          "transient": {
            "deleting": false
          }
        },
        "gather": {
          "logged": 1720328104652
        }
      }
    },
    {
      "cell_type": "markdown",
      "source": [
        "# Check the status of the endpoint"
      ],
      "metadata": {
        "nteract": {
          "transient": {
            "deleting": false
          }
        }
      }
    },
    {
      "cell_type": "code",
      "source": [
        "endpoint = ml_client.online_endpoints.get(online_endpoint_name)\n",
        "\n",
        "print(\n",
        "    f\"Name: {endpoint.name}\\nStatus: {endpoint.provisioning_state}\\nDescription: {endpoint.description}\"\n",
        ")"
      ],
      "outputs": [
        {
          "output_type": "stream",
          "name": "stdout",
          "text": "Name: credit-endpoint-c53983ae\nStatus: Succeeded\nDescription: online endpoint for credit defaults\n"
        }
      ],
      "execution_count": 11,
      "metadata": {
        "jupyter": {
          "source_hidden": false,
          "outputs_hidden": false
        },
        "nteract": {
          "transient": {
            "deleting": false
          }
        },
        "gather": {
          "logged": 1720328104897
        }
      }
    },
    {
      "cell_type": "code",
      "source": [
        "print(endpoint.traffic)\n",
        "print(endpoint.scoring_uri)"
      ],
      "outputs": [
        {
          "output_type": "stream",
          "name": "stdout",
          "text": "{'blue': 100}\nhttps://credit-endpoint-c53983ae.eastus.inference.ml.azure.com/score\n"
        }
      ],
      "execution_count": 12,
      "metadata": {
        "jupyter": {
          "source_hidden": false,
          "outputs_hidden": false
        },
        "nteract": {
          "transient": {
            "deleting": false
          }
        },
        "gather": {
          "logged": 1720328105159
        }
      }
    },
    {
      "cell_type": "markdown",
      "source": [
        "# Test the endpoint with sample data"
      ],
      "metadata": {
        "nteract": {
          "transient": {
            "deleting": false
          }
        }
      }
    },
    {
      "cell_type": "code",
      "source": [
        "import os\n",
        "\n",
        "deploy_dir = \"./deploy\"\n",
        "os.makedirs(deploy_dir, exist_ok=True)"
      ],
      "outputs": [],
      "execution_count": 13,
      "metadata": {
        "jupyter": {
          "source_hidden": false,
          "outputs_hidden": false
        },
        "nteract": {
          "transient": {
            "deleting": false
          }
        },
        "gather": {
          "logged": 1720328105436
        }
      }
    },
    {
      "cell_type": "code",
      "source": [
        "%%writefile {deploy_dir}/sample-request.json\n",
        "{\n",
        "    \"input_data\": {\n",
        "        \"columns\": [0,1,2,3,4,5,6,7,8,9,10,11,12,13,14,15,16,17,18,19,20,21,22],\n",
        "        \"index\": [0,1],\n",
        "        \"data\": [\n",
        "            [20000,2,2,1,24,2,2,-1,-1,-2,-2,3913,3102,689,0,0,0,0,689,0,0,0,0],\n",
        "            [10, 9, 8, 7, 6, 5, 4, 3, 2, 1, 10, 9, 8, 7, 6, 5, 4, 3, 2, 1, 10, 9, 8]\n",
        "        ]\n",
        "    }\n",
        "}"
      ],
      "outputs": [
        {
          "output_type": "stream",
          "name": "stdout",
          "text": "Writing ./deploy/sample-request.json\n"
        }
      ],
      "execution_count": 14,
      "metadata": {
        "jupyter": {
          "source_hidden": false,
          "outputs_hidden": false
        },
        "nteract": {
          "transient": {
            "deleting": false
          }
        }
      }
    },
    {
      "cell_type": "code",
      "source": [
        "ml_client.online_endpoints.invoke(\n",
        "    endpoint_name=online_endpoint_name,\n",
        "    deployment_name=\"blue\",\n",
        "    request_file=\"./deploy/sample-request.json\"\n",
        ")"
      ],
      "outputs": [
        {
          "output_type": "execute_result",
          "execution_count": 15,
          "data": {
            "text/plain": "'[1, 0]'"
          },
          "metadata": {}
        }
      ],
      "execution_count": 15,
      "metadata": {
        "jupyter": {
          "source_hidden": false,
          "outputs_hidden": false
        },
        "nteract": {
          "transient": {
            "deleting": false
          }
        },
        "gather": {
          "logged": 1720328105972
        }
      }
    },
    {
      "cell_type": "markdown",
      "source": [
        "# Get logs of the deployment"
      ],
      "metadata": {
        "nteract": {
          "transient": {
            "deleting": false
          }
        }
      }
    },
    {
      "cell_type": "code",
      "source": [
        "logs = ml_client.online_deployments.get_logs(\n",
        "    name=\"blue\", \n",
        "    endpoint_name=online_endpoint_name, \n",
        "    lines=50\n",
        ")\n",
        "print(logs)"
      ],
      "outputs": [
        {
          "output_type": "stream",
          "name": "stdout",
          "text": "Instance status:\nSystemSetup: Succeeded\nUserContainerImagePull: Succeeded\nModelDownload: Succeeded\nUserContainerStart: Succeeded\n\nContainer events:\nKind: Pod, Name: ReadinessProbeFailed, Type: Warning, Time: 2024-07-07T04:51:58.807001Z, Message: Readiness probe failed: HTTP probe failed with statuscode: 502\nKind: Pod, Name: LivenessProbeFailed, Type: Warning, Time: 2024-07-07T04:52:03.663751Z, Message: Liveness probe failed: HTTP probe failed with statuscode: 502\nKind: Pod, Name: ReadinessProbeFailed, Type: Warning, Time: 2024-07-07T04:52:08.806015Z, Message: Readiness probe failed: HTTP probe failed with statuscode: 502\nKind: Pod, Name: LivenessProbeFailed, Type: Warning, Time: 2024-07-07T04:52:13.662718Z, Message: Liveness probe failed: HTTP probe failed with statuscode: 502\nKind: Pod, Name: ReadinessProbeFailed, Type: Warning, Time: 2024-07-07T04:52:18.805877Z, Message: Readiness probe failed: HTTP probe failed with statuscode: 502\nKind: Pod, Name: LivenessProbeFailed, Type: Warning, Time: 2024-07-07T04:52:23.662525Z, Message: Liveness probe failed: HTTP probe failed with statuscode: 502\nKind: Pod, Name: ReadinessProbeFailed, Type: Warning, Time: 2024-07-07T04:52:28.805742Z, Message: Readiness probe failed: HTTP probe failed with statuscode: 502\nKind: Pod, Name: LivenessProbeFailed, Type: Warning, Time: 2024-07-07T04:52:33.66284Z, Message: Liveness probe failed: HTTP probe failed with statuscode: 502\nKind: Pod, Name: ReadinessProbeFailed, Type: Warning, Time: 2024-07-07T04:52:38.805711Z, Message: Readiness probe failed: HTTP probe failed with statuscode: 502\nKind: Pod, Name: LivenessProbeFailed, Type: Warning, Time: 2024-07-07T04:52:43.66264Z, Message: Liveness probe failed: HTTP probe failed with statuscode: 502\nKind: Pod, Name: ReadinessProbeFailed, Type: Warning, Time: 2024-07-07T04:52:48.805659Z, Message: Readiness probe failed: HTTP probe failed with statuscode: 502\nKind: Pod, Name: LivenessProbeFailed, Type: Warning, Time: 2024-07-07T04:52:53.662593Z, Message: Liveness probe failed: HTTP probe failed with statuscode: 502\nKind: Pod, Name: ReadinessProbeFailed, Type: Warning, Time: 2024-07-07T04:52:58.80599Z, Message: Readiness probe failed: HTTP probe failed with statuscode: 502\nKind: Pod, Name: LivenessProbeFailed, Type: Warning, Time: 2024-07-07T04:53:03.6627Z, Message: Liveness probe failed: HTTP probe failed with statuscode: 502\nKind: Pod, Name: ReadinessProbeFailed, Type: Warning, Time: 2024-07-07T04:53:08.805696Z, Message: Readiness probe failed: HTTP probe failed with statuscode: 502\nKind: Pod, Name: LivenessProbeFailed, Type: Warning, Time: 2024-07-07T04:53:13.662628Z, Message: Liveness probe failed: HTTP probe failed with statuscode: 502\nKind: Pod, Name: ReadinessProbeFailed, Type: Warning, Time: 2024-07-07T04:53:18.80577Z, Message: Readiness probe failed: HTTP probe failed with statuscode: 502\nKind: Pod, Name: LivenessProbeFailed, Type: Warning, Time: 2024-07-07T04:53:23.662702Z, Message: Liveness probe failed: HTTP probe failed with statuscode: 502\nKind: Pod, Name: ReadinessProbeFailed, Type: Warning, Time: 2024-07-07T04:53:28.805758Z, Message: Readiness probe failed: HTTP probe failed with statuscode: 502\nKind: Pod, Name: ContainerReady, Type: Normal, Time: 2024-07-07T04:53:39.220778847Z, Message: Container is ready\n\nContainer logs:\nApplication Insights Key: None\nInferencing HTTP server version: azmlinfsrv/1.0.0\nCORS for the specified origins: None\nCreate dedicated endpoint for health: None\n\n\nServer Routes\n---------------\nLiveness Probe: GET   127.0.0.1:31311/\nScore:          POST  127.0.0.1:31311/score\n\n2024-07-07 04:53:32,297 I [741] azmlinfsrv - AML_FLASK_ONE_COMPATIBILITY is set. Patched Flask to ensure compatibility with Flask 1.\nInitializing logger\n2024-07-07 04:53:32,299 I [741] azmlinfsrv - Starting up app insights client\nWARNING:entry_module:No signature information provided for model. If no sample information was provided with the model the deployment's swagger will not include input and output schema and typing information.For more information, please see: https://aka.ms/aml-mlflow-deploy.\n2024-07-07 04:53:33,665 I [741] azmlinfsrv.user_script - Found user script at /var/mlflow_resources/mlflow_score_script.py\n2024-07-07 04:53:33,666 I [741] azmlinfsrv.user_script - run() is decorated with @input_schema. Server will invoke it with the following arguments: input_data, params.\n2024-07-07 04:53:33,666 I [741] azmlinfsrv.user_script - Invoking user's init function\n2024-07-07 04:53:33,667 | mdc | INFO | init data collector\n2024-07-07 04:53:33,667 | mdc | INFO | mdc enabled: False\n2024-07-07 04:53:33,667 | mdc | INFO | mdc collections count 0\n2024-07-07 04:53:33,667 | mdc | WARNING | data collector is not enabled\n2024-07-07 04:53:33,667 I [741] azmlinfsrv.user_script - Users's init has completed successfully\nERROR:entry_module:Error initializing model_inputs collector and model_outputs collector. custom logging is not enabled, drop the data\n2024-07-07 04:53:33,668 I [741] azmlinfsrv.swagger - Swaggers are prepared for the following versions: [2, 3, 3.1].\n2024-07-07 04:53:33,668 I [741] azmlinfsrv - Scoring timeout is set to 3600000\n2024-07-07 04:53:33,668 I [741] azmlinfsrv - Worker with pid 741 ready for serving traffic\n2024-07-07 04:53:33,671 I [741] gunicorn.access - 127.0.0.1 - - [07/Jul/2024:04:53:33 +0000] \"GET / HTTP/1.0\" 200 7 \"-\" \"kube-probe/1.18\"\n2024-07-07 04:53:38,806 I [741] gunicorn.access - 127.0.0.1 - - [07/Jul/2024:04:53:38 +0000] \"GET / HTTP/1.0\" 200 7 \"-\" \"kube-probe/1.18\"\n2024-07-07 04:53:43,663 I [741] gunicorn.access - 127.0.0.1 - - [07/Jul/2024:04:53:43 +0000] \"GET / HTTP/1.0\" 200 7 \"-\" \"kube-probe/1.18\"\n2024-07-07 04:53:48,807 I [741] gunicorn.access - 127.0.0.1 - - [07/Jul/2024:04:53:48 +0000] \"GET / HTTP/1.0\" 200 7 \"-\" \"kube-probe/1.18\"\n2024-07-07 04:53:53,663 I [741] gunicorn.access - 127.0.0.1 - - [07/Jul/2024:04:53:53 +0000] \"GET / HTTP/1.0\" 200 7 \"-\" \"kube-probe/1.18\"\n2024-07-07 04:53:58,807 I [741] gunicorn.access - 127.0.0.1 - - [07/Jul/2024:04:53:58 +0000] \"GET / HTTP/1.0\" 200 7 \"-\" \"kube-probe/1.18\"\n2024-07-07 04:54:03,663 I [741] gunicorn.access - 127.0.0.1 - - [07/Jul/2024:04:54:03 +0000] \"GET / HTTP/1.0\" 200 7 \"-\" \"kube-probe/1.18\"\n2024-07-07 04:54:08,806 I [741] gunicorn.access - 127.0.0.1 - - [07/Jul/2024:04:54:08 +0000] \"GET / HTTP/1.0\" 200 7 \"-\" \"kube-probe/1.18\"\n2024-07-07 04:54:13,663 I [741] gunicorn.access - 127.0.0.1 - - [07/Jul/2024:04:54:13 +0000] \"GET / HTTP/1.0\" 200 7 \"-\" \"kube-probe/1.18\"\n2024-07-07 04:54:18,806 I [741] gunicorn.access - 127.0.0.1 - - [07/Jul/2024:04:54:18 +0000] \"GET / HTTP/1.0\" 200 7 \"-\" \"kube-probe/1.18\"\n2024-07-07 04:54:23,664 I [741] gunicorn.access - 127.0.0.1 - - [07/Jul/2024:04:54:23 +0000] \"GET / HTTP/1.0\" 200 7 \"-\" \"kube-probe/1.18\"\n2024-07-07 04:54:28,806 I [741] gunicorn.access - 127.0.0.1 - - [07/Jul/2024:04:54:28 +0000] \"GET / HTTP/1.0\" 200 7 \"-\" \"kube-probe/1.18\"\n2024-07-07 04:54:33,663 I [741] gunicorn.access - 127.0.0.1 - - [07/Jul/2024:04:54:33 +0000] \"GET / HTTP/1.0\" 200 7 \"-\" \"kube-probe/1.18\"\n2024-07-07 04:54:38,806 I [741] gunicorn.access - 127.0.0.1 - - [07/Jul/2024:04:54:38 +0000] \"GET / HTTP/1.0\" 200 7 \"-\" \"kube-probe/1.18\"\n2024-07-07 04:54:43,663 I [741] gunicorn.access - 127.0.0.1 - - [07/Jul/2024:04:54:43 +0000] \"GET / HTTP/1.0\" 200 7 \"-\" \"kube-probe/1.18\"\n2024-07-07 04:54:48,806 I [741] gunicorn.access - 127.0.0.1 - - [07/Jul/2024:04:54:48 +0000] \"GET / HTTP/1.0\" 200 7 \"-\" \"kube-probe/1.18\"\n2024-07-07 04:54:53,663 I [741] gunicorn.access - 127.0.0.1 - - [07/Jul/2024:04:54:53 +0000] \"GET / HTTP/1.0\" 200 7 \"-\" \"kube-probe/1.18\"\n2024-07-07 04:54:58,806 I [741] gunicorn.access - 127.0.0.1 - - [07/Jul/2024:04:54:58 +0000] \"GET / HTTP/1.0\" 200 7 \"-\" \"kube-probe/1.18\"\n2024-07-07 04:55:03,664 I [741] gunicorn.access - 127.0.0.1 - - [07/Jul/2024:04:55:03 +0000] \"GET / HTTP/1.0\" 200 7 \"-\" \"kube-probe/1.18\"\nERROR:entry_module:Error collecting model_inputs collection request. name 'inputs_collector' is not defined\nERROR:entry_module:Error collecting model_outputs collection request. name 'outputs_collector' is not defined\n2024-07-07 04:55:06,668 I [741] azmlinfsrv - POST /score 200 7.341ms 6\n2024-07-07 04:55:06,668 I [741] gunicorn.access - 127.0.0.1 - - [07/Jul/2024:04:55:06 +0000] \"POST /score HTTP/1.0\" 200 6 \"-\" \"azure-ai-ml/1.16.1 azsdk-python-core/1.30.2 Python/3.10.14 (Linux-5.15.0-1064-azure-x86_64-with-glibc2.31)\"\n\n\n"
        }
      ],
      "execution_count": 16,
      "metadata": {
        "jupyter": {
          "source_hidden": false,
          "outputs_hidden": false
        },
        "nteract": {
          "transient": {
            "deleting": false
          }
        },
        "gather": {
          "logged": 1720328106245
        }
      }
    },
    {
      "cell_type": "markdown",
      "source": [
        "# Create a second deployment"
      ],
      "metadata": {
        "nteract": {
          "transient": {
            "deleting": false
          }
        }
      }
    },
    {
      "cell_type": "code",
      "source": [
        "model = ml_client.models.get(name=registered_model_name, version=latest_model_version)\n",
        "\n",
        "green_deployment = ManagedOnlineDeployment(\n",
        "    name=\"green\",\n",
        "    endpoint_name=online_endpoint_name,\n",
        "    model=model,\n",
        "    instance_type=\"Standard_F4s_v2\",\n",
        "    instance_count=1\n",
        ")\n",
        "\n",
        "green_deployment = ml_client.online_deployments.begin_create_or_update(\n",
        "    green_deployment\n",
        ").result()"
      ],
      "outputs": [
        {
          "output_type": "stream",
          "name": "stderr",
          "text": "Check: endpoint credit-endpoint-c53983ae exists\n"
        },
        {
          "output_type": "stream",
          "name": "stdout",
          "text": ".............................................................................................."
        }
      ],
      "execution_count": 17,
      "metadata": {
        "jupyter": {
          "source_hidden": false,
          "outputs_hidden": false
        },
        "nteract": {
          "transient": {
            "deleting": false
          }
        },
        "gather": {
          "logged": 1720328586705
        }
      }
    },
    {
      "cell_type": "markdown",
      "source": [
        "# Scale deployment to handle more traffic"
      ],
      "metadata": {
        "nteract": {
          "transient": {
            "deleting": false
          }
        }
      }
    },
    {
      "cell_type": "code",
      "source": [
        "green_deployment.instance_count = 2\n",
        "\n",
        "ml_client.online_deployments.begin_create_or_update(green_deployment).result()"
      ],
      "outputs": [
        {
          "output_type": "stream",
          "name": "stderr",
          "text": "Check: endpoint credit-endpoint-c53983ae exists\n"
        },
        {
          "output_type": "stream",
          "name": "stdout",
          "text": ".........................................................................................."
        },
        {
          "output_type": "execute_result",
          "execution_count": 18,
          "data": {
            "text/plain": "ManagedOnlineDeployment({'private_network_connection': None, 'package_model': False, 'provisioning_state': 'Succeeded', 'endpoint_name': 'credit-endpoint-c53983ae', 'type': 'Managed', 'name': 'green', 'description': None, 'tags': {}, 'properties': {'AzureAsyncOperationUri': 'https://management.azure.com/subscriptions/a9ea30e6-5728-4375-ac04-cbe4918c3def/providers/Microsoft.MachineLearningServices/locations/eastus/mfeOperationsStatus/odidp:77c52ac9-a5e2-47ea-a0dc-d01bacc875f6:fd588d73-2b8b-4da4-9058-80e430b7b5c0?api-version=2023-04-01-preview'}, 'print_as_yaml': False, 'id': '/subscriptions/a9ea30e6-5728-4375-ac04-cbe4918c3def/resourceGroups/rg-training/providers/Microsoft.MachineLearningServices/workspaces/ws-training/onlineEndpoints/credit-endpoint-c53983ae/deployments/green', 'Resource__source_path': '', 'base_path': '/mnt/batch/tasks/shared/LS_root/mounts/clusters/v-ankbhagat2/code/Users/v-ankbhagat/credit-defaults-model', 'creation_context': None, 'serialize': <msrest.serialization.Serializer object at 0x7fceb0e63430>, 'model': '/subscriptions/a9ea30e6-5728-4375-ac04-cbe4918c3def/resourceGroups/rg-training/providers/Microsoft.MachineLearningServices/workspaces/ws-training/models/credit_defaults_model/versions/1', 'code_configuration': None, 'environment': '/subscriptions/a9ea30e6-5728-4375-ac04-cbe4918c3def/resourceGroups/rg-training/providers/Microsoft.MachineLearningServices/workspaces/ws-training/environments/DefaultNcdEnv-mlflow-ubuntu20-04-py38-cpu-inference/versions/20240522v1', 'environment_variables': {'MLFLOW_MODEL_FOLDER': 'credit_defaults_model', 'AZUREML_EXTRA_CONDA_YAML_ABS_PATH': '/var/azureml-app/azureml-models/credit_defaults_model/1/credit_defaults_model/conda.yaml', 'AZUREML_MODEL_DIR': '/var/azureml-app/azureml-models/credit_defaults_model/1'}, 'app_insights_enabled': False, 'scale_settings': <azure.ai.ml.entities._deployment.scale_settings.DefaultScaleSettings object at 0x7fcea9497a90>, 'request_settings': <azure.ai.ml.entities._deployment.deployment_settings.OnlineRequestSettings object at 0x7fcea9495d20>, 'liveness_probe': <azure.ai.ml.entities._deployment.deployment_settings.ProbeSettings object at 0x7fceb0e62fb0>, 'readiness_probe': <azure.ai.ml.entities._deployment.deployment_settings.ProbeSettings object at 0x7fceb0e63040>, 'instance_count': 2, 'arm_type': 'online_deployment', 'model_mount_path': None, 'instance_type': 'Standard_F4s_v2', 'data_collector': None, 'egress_public_network_access': 'Enabled'})"
          },
          "metadata": {}
        }
      ],
      "execution_count": 18,
      "metadata": {
        "jupyter": {
          "source_hidden": false,
          "outputs_hidden": false
        },
        "nteract": {
          "transient": {
            "deleting": false
          }
        },
        "gather": {
          "logged": 1720329051348
        }
      }
    },
    {
      "cell_type": "markdown",
      "source": [
        "# Update traffic allocation for deployments"
      ],
      "metadata": {
        "nteract": {
          "transient": {
            "deleting": false
          }
        }
      }
    },
    {
      "cell_type": "code",
      "source": [
        "endpoint.traffic = {\"blue\": 80, \"green\": 20}\n",
        "ml_client.online_endpoints.begin_create_or_update(endpoint).result()"
      ],
      "outputs": [
        {
          "output_type": "stream",
          "name": "stderr",
          "text": "Readonly attribute principal_id will be ignored in class <class 'azure.ai.ml._restclient.v2022_05_01.models._models_py3.ManagedServiceIdentity'>\nReadonly attribute tenant_id will be ignored in class <class 'azure.ai.ml._restclient.v2022_05_01.models._models_py3.ManagedServiceIdentity'>\n"
        },
        {
          "output_type": "execute_result",
          "execution_count": 19,
          "data": {
            "text/plain": "ManagedOnlineEndpoint({'public_network_access': 'Enabled', 'provisioning_state': 'Succeeded', 'scoring_uri': 'https://credit-endpoint-c53983ae.eastus.inference.ml.azure.com/score', 'openapi_uri': 'https://credit-endpoint-c53983ae.eastus.inference.ml.azure.com/swagger.json', 'name': 'credit-endpoint-c53983ae', 'description': 'online endpoint for credit defaults', 'tags': {'training-dataset': 'credit_defaults'}, 'properties': {'createdBy': 'Ankita Himanshubhai Bhagat (Quadrant Resource LLC)', 'createdAt': '2024-07-07T04:43:12.679704+0000', 'lastModifiedAt': '2024-07-07T04:43:12.679704+0000', 'azureml.onlineendpointid': '/subscriptions/a9ea30e6-5728-4375-ac04-cbe4918c3def/resourcegroups/rg-training/providers/microsoft.machinelearningservices/workspaces/ws-training/onlineendpoints/credit-endpoint-c53983ae', 'AzureAsyncOperationUri': 'https://management.azure.com/subscriptions/a9ea30e6-5728-4375-ac04-cbe4918c3def/providers/Microsoft.MachineLearningServices/locations/eastus/mfeOperationsStatus/oeidp:77c52ac9-a5e2-47ea-a0dc-d01bacc875f6:d9ad05e1-601c-4358-80a0-7277500668bf?api-version=2022-02-01-preview'}, 'print_as_yaml': False, 'id': '/subscriptions/a9ea30e6-5728-4375-ac04-cbe4918c3def/resourceGroups/rg-training/providers/Microsoft.MachineLearningServices/workspaces/ws-training/onlineEndpoints/credit-endpoint-c53983ae', 'Resource__source_path': '', 'base_path': '/mnt/batch/tasks/shared/LS_root/mounts/clusters/v-ankbhagat2/code/Users/v-ankbhagat/credit-defaults-model', 'creation_context': None, 'serialize': <msrest.serialization.Serializer object at 0x7fceb0e483d0>, 'auth_mode': 'key', 'location': 'eastus', 'identity': <azure.ai.ml.entities._credentials.IdentityConfiguration object at 0x7fceb0e2bdc0>, 'traffic': {'blue': 80, 'green': 20}, 'mirror_traffic': {}, 'kind': 'Managed'})"
          },
          "metadata": {}
        }
      ],
      "execution_count": 19,
      "metadata": {
        "jupyter": {
          "source_hidden": false,
          "outputs_hidden": false
        },
        "nteract": {
          "transient": {
            "deleting": false
          }
        },
        "gather": {
          "logged": 1720329083762
        }
      }
    },
    {
      "cell_type": "code",
      "source": [
        "for i in range(30):\n",
        "    ml_client.online_endpoints.invoke(\n",
        "        endpoint_name=online_endpoint_name,\n",
        "        request_file=\"./deploy/sample-request.json\"\n",
        "    )"
      ],
      "outputs": [],
      "execution_count": 21,
      "metadata": {
        "jupyter": {
          "source_hidden": false,
          "outputs_hidden": false
        },
        "nteract": {
          "transient": {
            "deleting": false
          }
        },
        "gather": {
          "logged": 1720329596260
        }
      }
    },
    {
      "cell_type": "code",
      "source": [
        "logs = ml_client.online_deployments.get_logs(\n",
        "    name=\"green\",\n",
        "    endpoint_name=online_endpoint_name,\n",
        "    lines=50\n",
        ")\n",
        "print(logs)"
      ],
      "outputs": [
        {
          "output_type": "stream",
          "name": "stdout",
          "text": "Instance status:\nSystemSetup: Succeeded\nUserContainerImagePull: Succeeded\nModelDownload: Succeeded\nUserContainerStart: Succeeded\n\nContainer events:\nKind: Pod, Name: LivenessProbeFailed, Type: Warning, Time: 2024-07-07T05:00:53.766857Z, Message: Liveness probe failed: HTTP probe failed with statuscode: 502\nKind: Pod, Name: ReadinessProbeFailed, Type: Warning, Time: 2024-07-07T05:00:58.941999Z, Message: Readiness probe failed: HTTP probe failed with statuscode: 502\nKind: Pod, Name: LivenessProbeFailed, Type: Warning, Time: 2024-07-07T05:01:03.767108Z, Message: Liveness probe failed: HTTP probe failed with statuscode: 502\nKind: Pod, Name: ReadinessProbeFailed, Type: Warning, Time: 2024-07-07T05:01:08.94208Z, Message: Readiness probe failed: HTTP probe failed with statuscode: 502\nKind: Pod, Name: LivenessProbeFailed, Type: Warning, Time: 2024-07-07T05:01:13.769404Z, Message: Liveness probe failed: HTTP probe failed with statuscode: 502\nKind: Pod, Name: ReadinessProbeFailed, Type: Warning, Time: 2024-07-07T05:01:18.942139Z, Message: Readiness probe failed: HTTP probe failed with statuscode: 502\nKind: Pod, Name: LivenessProbeFailed, Type: Warning, Time: 2024-07-07T05:01:23.769219Z, Message: Liveness probe failed: HTTP probe failed with statuscode: 502\nKind: Pod, Name: ReadinessProbeFailed, Type: Warning, Time: 2024-07-07T05:01:28.942051Z, Message: Readiness probe failed: HTTP probe failed with statuscode: 502\nKind: Pod, Name: LivenessProbeFailed, Type: Warning, Time: 2024-07-07T05:01:33.76686Z, Message: Liveness probe failed: HTTP probe failed with statuscode: 502\nKind: Pod, Name: ReadinessProbeFailed, Type: Warning, Time: 2024-07-07T05:01:38.941933Z, Message: Readiness probe failed: HTTP probe failed with statuscode: 502\nKind: Pod, Name: LivenessProbeFailed, Type: Warning, Time: 2024-07-07T05:01:43.767163Z, Message: Liveness probe failed: HTTP probe failed with statuscode: 502\nKind: Pod, Name: ReadinessProbeFailed, Type: Warning, Time: 2024-07-07T05:01:48.942053Z, Message: Readiness probe failed: HTTP probe failed with statuscode: 502\nKind: Pod, Name: LivenessProbeFailed, Type: Warning, Time: 2024-07-07T05:01:53.766956Z, Message: Liveness probe failed: HTTP probe failed with statuscode: 502\nKind: Pod, Name: ReadinessProbeFailed, Type: Warning, Time: 2024-07-07T05:02:00.089094Z, Message: Readiness probe failed: HTTP probe failed with statuscode: 502\nKind: Pod, Name: LivenessProbeFailed, Type: Warning, Time: 2024-07-07T05:02:07.790898Z, Message: Liveness probe failed: HTTP probe failed with statuscode: 502\nKind: Pod, Name: ReadinessProbeFailed, Type: Warning, Time: 2024-07-07T05:02:09.377991Z, Message: Readiness probe failed: HTTP probe failed with statuscode: 502\nKind: Pod, Name: LivenessProbeFailed, Type: Warning, Time: 2024-07-07T05:02:13.766904Z, Message: Liveness probe failed: HTTP probe failed with statuscode: 502\nKind: Pod, Name: ReadinessProbeFailed, Type: Warning, Time: 2024-07-07T05:02:18.942124Z, Message: Readiness probe failed: HTTP probe failed with statuscode: 502\nKind: Pod, Name: LivenessProbeFailed, Type: Warning, Time: 2024-07-07T05:02:23.767154Z, Message: Liveness probe failed: HTTP probe failed with statuscode: 502\nKind: Pod, Name: ContainerReady, Type: Normal, Time: 2024-07-07T05:02:29.433698647Z, Message: Container is ready\n\nContainer logs:\n2024-07-07 05:26:08,943 I [740] gunicorn.access - 127.0.0.1 - - [07/Jul/2024:05:26:08 +0000] \"GET / HTTP/1.0\" 200 7 \"-\" \"kube-probe/1.18\"\n2024-07-07 05:26:13,768 I [740] gunicorn.access - 127.0.0.1 - - [07/Jul/2024:05:26:13 +0000] \"GET / HTTP/1.0\" 200 7 \"-\" \"kube-probe/1.18\"\n2024-07-07 05:26:18,943 I [740] gunicorn.access - 127.0.0.1 - - [07/Jul/2024:05:26:18 +0000] \"GET / HTTP/1.0\" 200 7 \"-\" \"kube-probe/1.18\"\n2024-07-07 05:26:23,768 I [740] gunicorn.access - 127.0.0.1 - - [07/Jul/2024:05:26:23 +0000] \"GET / HTTP/1.0\" 200 7 \"-\" \"kube-probe/1.18\"\n2024-07-07 05:26:28,943 I [740] gunicorn.access - 127.0.0.1 - - [07/Jul/2024:05:26:28 +0000] \"GET / HTTP/1.0\" 200 7 \"-\" \"kube-probe/1.18\"\n2024-07-07 05:26:33,768 I [740] gunicorn.access - 127.0.0.1 - - [07/Jul/2024:05:26:33 +0000] \"GET / HTTP/1.0\" 200 7 \"-\" \"kube-probe/1.18\"\n2024-07-07 05:26:38,943 I [740] gunicorn.access - 127.0.0.1 - - [07/Jul/2024:05:26:38 +0000] \"GET / HTTP/1.0\" 200 7 \"-\" \"kube-probe/1.18\"\n2024-07-07 05:26:43,768 I [740] gunicorn.access - 127.0.0.1 - - [07/Jul/2024:05:26:43 +0000] \"GET / HTTP/1.0\" 200 7 \"-\" \"kube-probe/1.18\"\n2024-07-07 05:26:48,943 I [740] gunicorn.access - 127.0.0.1 - - [07/Jul/2024:05:26:48 +0000] \"GET / HTTP/1.0\" 200 7 \"-\" \"kube-probe/1.18\"\n2024-07-07 05:26:53,768 I [740] gunicorn.access - 127.0.0.1 - - [07/Jul/2024:05:26:53 +0000] \"GET / HTTP/1.0\" 200 7 \"-\" \"kube-probe/1.18\"\n2024-07-07 05:26:58,942 I [740] gunicorn.access - 127.0.0.1 - - [07/Jul/2024:05:26:58 +0000] \"GET / HTTP/1.0\" 200 7 \"-\" \"kube-probe/1.18\"\n2024-07-07 05:27:03,768 I [740] gunicorn.access - 127.0.0.1 - - [07/Jul/2024:05:27:03 +0000] \"GET / HTTP/1.0\" 200 7 \"-\" \"kube-probe/1.18\"\n2024-07-07 05:27:08,943 I [740] gunicorn.access - 127.0.0.1 - - [07/Jul/2024:05:27:08 +0000] \"GET / HTTP/1.0\" 200 7 \"-\" \"kube-probe/1.18\"\n2024-07-07 05:27:13,768 I [740] gunicorn.access - 127.0.0.1 - - [07/Jul/2024:05:27:13 +0000] \"GET / HTTP/1.0\" 200 7 \"-\" \"kube-probe/1.18\"\n2024-07-07 05:27:18,942 I [740] gunicorn.access - 127.0.0.1 - - [07/Jul/2024:05:27:18 +0000] \"GET / HTTP/1.0\" 200 7 \"-\" \"kube-probe/1.18\"\n2024-07-07 05:27:23,768 I [740] gunicorn.access - 127.0.0.1 - - [07/Jul/2024:05:27:23 +0000] \"GET / HTTP/1.0\" 200 7 \"-\" \"kube-probe/1.18\"\n2024-07-07 05:27:28,943 I [740] gunicorn.access - 127.0.0.1 - - [07/Jul/2024:05:27:28 +0000] \"GET / HTTP/1.0\" 200 7 \"-\" \"kube-probe/1.18\"\n2024-07-07 05:27:33,768 I [740] gunicorn.access - 127.0.0.1 - - [07/Jul/2024:05:27:33 +0000] \"GET / HTTP/1.0\" 200 7 \"-\" \"kube-probe/1.18\"\n2024-07-07 05:27:38,942 I [740] gunicorn.access - 127.0.0.1 - - [07/Jul/2024:05:27:38 +0000] \"GET / HTTP/1.0\" 200 7 \"-\" \"kube-probe/1.18\"\n2024-07-07 05:27:43,767 I [740] gunicorn.access - 127.0.0.1 - - [07/Jul/2024:05:27:43 +0000] \"GET / HTTP/1.0\" 200 7 \"-\" \"kube-probe/1.18\"\n2024-07-07 05:27:48,942 I [740] gunicorn.access - 127.0.0.1 - - [07/Jul/2024:05:27:48 +0000] \"GET / HTTP/1.0\" 200 7 \"-\" \"kube-probe/1.18\"\n2024-07-07 05:27:53,767 I [740] gunicorn.access - 127.0.0.1 - - [07/Jul/2024:05:27:53 +0000] \"GET / HTTP/1.0\" 200 7 \"-\" \"kube-probe/1.18\"\n2024-07-07 05:27:58,943 I [740] gunicorn.access - 127.0.0.1 - - [07/Jul/2024:05:27:58 +0000] \"GET / HTTP/1.0\" 200 7 \"-\" \"kube-probe/1.18\"\n2024-07-07 05:28:03,768 I [740] gunicorn.access - 127.0.0.1 - - [07/Jul/2024:05:28:03 +0000] \"GET / HTTP/1.0\" 200 7 \"-\" \"kube-probe/1.18\"\n2024-07-07 05:28:08,942 I [740] gunicorn.access - 127.0.0.1 - - [07/Jul/2024:05:28:08 +0000] \"GET / HTTP/1.0\" 200 7 \"-\" \"kube-probe/1.18\"\n2024-07-07 05:28:13,767 I [740] gunicorn.access - 127.0.0.1 - - [07/Jul/2024:05:28:13 +0000] \"GET / HTTP/1.0\" 200 7 \"-\" \"kube-probe/1.18\"\n2024-07-07 05:28:18,942 I [740] gunicorn.access - 127.0.0.1 - - [07/Jul/2024:05:28:18 +0000] \"GET / HTTP/1.0\" 200 7 \"-\" \"kube-probe/1.18\"\n2024-07-07 05:28:23,767 I [740] gunicorn.access - 127.0.0.1 - - [07/Jul/2024:05:28:23 +0000] \"GET / HTTP/1.0\" 200 7 \"-\" \"kube-probe/1.18\"\n2024-07-07 05:28:28,943 I [740] gunicorn.access - 127.0.0.1 - - [07/Jul/2024:05:28:28 +0000] \"GET / HTTP/1.0\" 200 7 \"-\" \"kube-probe/1.18\"\n2024-07-07 05:28:33,768 I [740] gunicorn.access - 127.0.0.1 - - [07/Jul/2024:05:28:33 +0000] \"GET / HTTP/1.0\" 200 7 \"-\" \"kube-probe/1.18\"\n2024-07-07 05:28:38,942 I [740] gunicorn.access - 127.0.0.1 - - [07/Jul/2024:05:28:38 +0000] \"GET / HTTP/1.0\" 200 7 \"-\" \"kube-probe/1.18\"\n2024-07-07 05:28:43,767 I [740] gunicorn.access - 127.0.0.1 - - [07/Jul/2024:05:28:43 +0000] \"GET / HTTP/1.0\" 200 7 \"-\" \"kube-probe/1.18\"\n2024-07-07 05:28:48,943 I [740] gunicorn.access - 127.0.0.1 - - [07/Jul/2024:05:28:48 +0000] \"GET / HTTP/1.0\" 200 7 \"-\" \"kube-probe/1.18\"\n2024-07-07 05:28:53,767 I [740] gunicorn.access - 127.0.0.1 - - [07/Jul/2024:05:28:53 +0000] \"GET / HTTP/1.0\" 200 7 \"-\" \"kube-probe/1.18\"\n2024-07-07 05:28:58,942 I [740] gunicorn.access - 127.0.0.1 - - [07/Jul/2024:05:28:58 +0000] \"GET / HTTP/1.0\" 200 7 \"-\" \"kube-probe/1.18\"\n2024-07-07 05:29:03,767 I [740] gunicorn.access - 127.0.0.1 - - [07/Jul/2024:05:29:03 +0000] \"GET / HTTP/1.0\" 200 7 \"-\" \"kube-probe/1.18\"\n2024-07-07 05:29:08,943 I [740] gunicorn.access - 127.0.0.1 - - [07/Jul/2024:05:29:08 +0000] \"GET / HTTP/1.0\" 200 7 \"-\" \"kube-probe/1.18\"\n2024-07-07 05:29:13,768 I [740] gunicorn.access - 127.0.0.1 - - [07/Jul/2024:05:29:13 +0000] \"GET / HTTP/1.0\" 200 7 \"-\" \"kube-probe/1.18\"\n2024-07-07 05:29:18,942 I [740] gunicorn.access - 127.0.0.1 - - [07/Jul/2024:05:29:18 +0000] \"GET / HTTP/1.0\" 200 7 \"-\" \"kube-probe/1.18\"\n2024-07-07 05:29:23,767 I [740] gunicorn.access - 127.0.0.1 - - [07/Jul/2024:05:29:23 +0000] \"GET / HTTP/1.0\" 200 7 \"-\" \"kube-probe/1.18\"\n2024-07-07 05:29:28,942 I [740] gunicorn.access - 127.0.0.1 - - [07/Jul/2024:05:29:28 +0000] \"GET / HTTP/1.0\" 200 7 \"-\" \"kube-probe/1.18\"\n2024-07-07 05:29:33,767 I [740] gunicorn.access - 127.0.0.1 - - [07/Jul/2024:05:29:33 +0000] \"GET / HTTP/1.0\" 200 7 \"-\" \"kube-probe/1.18\"\n2024-07-07 05:29:38,942 I [740] gunicorn.access - 127.0.0.1 - - [07/Jul/2024:05:29:38 +0000] \"GET / HTTP/1.0\" 200 7 \"-\" \"kube-probe/1.18\"\n2024-07-07 05:29:43,767 I [740] gunicorn.access - 127.0.0.1 - - [07/Jul/2024:05:29:43 +0000] \"GET / HTTP/1.0\" 200 7 \"-\" \"kube-probe/1.18\"\n2024-07-07 05:29:48,943 I [740] gunicorn.access - 127.0.0.1 - - [07/Jul/2024:05:29:48 +0000] \"GET / HTTP/1.0\" 200 7 \"-\" \"kube-probe/1.18\"\n2024-07-07 05:29:53,767 I [740] gunicorn.access - 127.0.0.1 - - [07/Jul/2024:05:29:53 +0000] \"GET / HTTP/1.0\" 200 7 \"-\" \"kube-probe/1.18\"\n2024-07-07 05:29:58,943 I [740] gunicorn.access - 127.0.0.1 - - [07/Jul/2024:05:29:58 +0000] \"GET / HTTP/1.0\" 200 7 \"-\" \"kube-probe/1.18\"\n2024-07-07 05:30:03,767 I [740] gunicorn.access - 127.0.0.1 - - [07/Jul/2024:05:30:03 +0000] \"GET / HTTP/1.0\" 200 7 \"-\" \"kube-probe/1.18\"\n2024-07-07 05:30:08,942 I [740] gunicorn.access - 127.0.0.1 - - [07/Jul/2024:05:30:08 +0000] \"GET / HTTP/1.0\" 200 7 \"-\" \"kube-probe/1.18\"\n2024-07-07 05:30:13,767 I [740] gunicorn.access - 127.0.0.1 - - [07/Jul/2024:05:30:13 +0000] \"GET / HTTP/1.0\" 200 7 \"-\" \"kube-probe/1.18\"\n\n\n"
        }
      ],
      "execution_count": 22,
      "metadata": {
        "jupyter": {
          "source_hidden": false,
          "outputs_hidden": false
        },
        "nteract": {
          "transient": {
            "deleting": false
          }
        },
        "gather": {
          "logged": 1720330216083
        }
      }
    },
    {
      "cell_type": "markdown",
      "source": [
        "# Send all traffic to the new deployment"
      ],
      "metadata": {
        "nteract": {
          "transient": {
            "deleting": false
          }
        }
      }
    },
    {
      "cell_type": "code",
      "source": [
        "endpoint.traffic = {\"blue\": 0, \"green\": 100}\n",
        "ml_client.begin_create_or_update(endpoint).result()"
      ],
      "outputs": [
        {
          "output_type": "stream",
          "name": "stderr",
          "text": "Readonly attribute principal_id will be ignored in class <class 'azure.ai.ml._restclient.v2022_05_01.models._models_py3.ManagedServiceIdentity'>\nReadonly attribute tenant_id will be ignored in class <class 'azure.ai.ml._restclient.v2022_05_01.models._models_py3.ManagedServiceIdentity'>\n"
        },
        {
          "output_type": "execute_result",
          "execution_count": 23,
          "data": {
            "text/plain": "ManagedOnlineEndpoint({'public_network_access': 'Enabled', 'provisioning_state': 'Succeeded', 'scoring_uri': 'https://credit-endpoint-c53983ae.eastus.inference.ml.azure.com/score', 'openapi_uri': 'https://credit-endpoint-c53983ae.eastus.inference.ml.azure.com/swagger.json', 'name': 'credit-endpoint-c53983ae', 'description': 'online endpoint for credit defaults', 'tags': {'training-dataset': 'credit_defaults'}, 'properties': {'createdBy': 'Ankita Himanshubhai Bhagat (Quadrant Resource LLC)', 'createdAt': '2024-07-07T04:43:12.679704+0000', 'lastModifiedAt': '2024-07-07T04:43:12.679704+0000', 'azureml.onlineendpointid': '/subscriptions/a9ea30e6-5728-4375-ac04-cbe4918c3def/resourcegroups/rg-training/providers/microsoft.machinelearningservices/workspaces/ws-training/onlineendpoints/credit-endpoint-c53983ae', 'AzureAsyncOperationUri': 'https://management.azure.com/subscriptions/a9ea30e6-5728-4375-ac04-cbe4918c3def/providers/Microsoft.MachineLearningServices/locations/eastus/mfeOperationsStatus/oeidp:77c52ac9-a5e2-47ea-a0dc-d01bacc875f6:98755053-768f-4f8f-836e-125a28e4a132?api-version=2022-02-01-preview'}, 'print_as_yaml': False, 'id': '/subscriptions/a9ea30e6-5728-4375-ac04-cbe4918c3def/resourceGroups/rg-training/providers/Microsoft.MachineLearningServices/workspaces/ws-training/onlineEndpoints/credit-endpoint-c53983ae', 'Resource__source_path': '', 'base_path': '/mnt/batch/tasks/shared/LS_root/mounts/clusters/v-ankbhagat2/code/Users/v-ankbhagat/credit-defaults-model', 'creation_context': None, 'serialize': <msrest.serialization.Serializer object at 0x7fceb0e2bc10>, 'auth_mode': 'key', 'location': 'eastus', 'identity': <azure.ai.ml.entities._credentials.IdentityConfiguration object at 0x7fcea9495d80>, 'traffic': {'green': 100}, 'mirror_traffic': {}, 'kind': 'Managed'})"
          },
          "metadata": {}
        }
      ],
      "execution_count": 23,
      "metadata": {
        "jupyter": {
          "source_hidden": false,
          "outputs_hidden": false
        },
        "nteract": {
          "transient": {
            "deleting": false
          }
        },
        "gather": {
          "logged": 1720330252039
        }
      }
    },
    {
      "cell_type": "markdown",
      "source": [
        "# Delete the old deployment"
      ],
      "metadata": {
        "nteract": {
          "transient": {
            "deleting": false
          }
        }
      }
    },
    {
      "cell_type": "code",
      "source": [
        "ml_client.online_deployments.begin_delete(\n",
        "    name=\"blue\",\n",
        "    endpoint_name=online_endpoint_name\n",
        ").result()"
      ],
      "outputs": [],
      "execution_count": 24,
      "metadata": {
        "jupyter": {
          "source_hidden": false,
          "outputs_hidden": false
        },
        "nteract": {
          "transient": {
            "deleting": false
          }
        },
        "gather": {
          "logged": 1720337186577
        }
      }
    },
    {
      "cell_type": "markdown",
      "source": [
        "# Clean up resources"
      ],
      "metadata": {
        "nteract": {
          "transient": {
            "deleting": false
          }
        }
      }
    },
    {
      "cell_type": "code",
      "source": [
        "ml_client.online_endpoints.begin_delete(name=online_endpoint_name).result()"
      ],
      "outputs": [
        {
          "output_type": "stream",
          "name": "stdout",
          "text": "....................................................................................."
        }
      ],
      "execution_count": 25,
      "metadata": {
        "jupyter": {
          "source_hidden": false,
          "outputs_hidden": false
        },
        "nteract": {
          "transient": {
            "deleting": false
          }
        },
        "gather": {
          "logged": 1720337622951
        }
      }
    }
  ],
  "metadata": {
    "kernelspec": {
      "name": "python310-sdkv2",
      "language": "python",
      "display_name": "Python 3.10 - SDK v2"
    },
    "language_info": {
      "name": "python",
      "version": "3.10.14",
      "mimetype": "text/x-python",
      "codemirror_mode": {
        "name": "ipython",
        "version": 3
      },
      "pygments_lexer": "ipython3",
      "nbconvert_exporter": "python",
      "file_extension": ".py"
    },
    "microsoft": {
      "ms_spell_check": {
        "ms_spell_check_language": "en"
      },
      "host": {
        "AzureML": {
          "notebookHasBeenCompleted": true
        }
      }
    },
    "nteract": {
      "version": "nteract-front-end@1.0.0"
    },
    "kernel_info": {
      "name": "python310-sdkv2"
    }
  },
  "nbformat": 4,
  "nbformat_minor": 2
}